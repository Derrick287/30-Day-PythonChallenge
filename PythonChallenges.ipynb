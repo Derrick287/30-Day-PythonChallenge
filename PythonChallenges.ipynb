{
  "nbformat": 4,
  "nbformat_minor": 0,
  "metadata": {
    "colab": {
      "provenance": [],
      "authorship_tag": "ABX9TyNxw+sNx9fMTg08OUrLroJ2",
      "include_colab_link": true
    },
    "kernelspec": {
      "name": "python3",
      "display_name": "Python 3"
    },
    "language_info": {
      "name": "python"
    }
  },
  "cells": [
    {
      "cell_type": "markdown",
      "metadata": {
        "id": "view-in-github",
        "colab_type": "text"
      },
      "source": [
        "<a href=\"https://colab.research.google.com/github/Derrick287/30-Day-PythonChallenge/blob/main/PythonChallenges.ipynb\" target=\"_parent\"><img src=\"https://colab.research.google.com/assets/colab-badge.svg\" alt=\"Open In Colab\"/></a>"
      ]
    },
    {
      "cell_type": "markdown",
      "source": [
        "<b>1). </b>Write a function that takes in a string of one or more words, and returns the same string, but with all five or more letter words reversed (Just like the name of this Kata). Strings passed in will consist of only letters and spaces. Spaces will be included only when more than one word is present.\n",
        "\n",
        "<b>Examples:\n",
        "\n",
        "spinWords( \"Hey fellow warriors\" ) => returns \"Hey wollef sroirraw\" <br>\n",
        "spinWords( \"This is a test\") => returns \"This is a test\" <br>\n",
        "spinWords( \"This is another test\" )=> returns \"This is rehtona test\" <br></b>\n"
      ],
      "metadata": {
        "id": "qFK_Q190zDo2"
      }
    },
    {
      "cell_type": "code",
      "execution_count": null,
      "metadata": {
        "colab": {
          "base_uri": "https://localhost:8080/"
        },
        "id": "V64f2Ln6y0_F",
        "outputId": "8ca3ab7e-5507-4c2f-f7d2-5020ae88cf9b"
      },
      "outputs": [
        {
          "output_type": "stream",
          "name": "stdout",
          "text": [
            "trevnoC the ecnetnes into a list\n"
          ]
        }
      ],
      "source": [
        "def spin_words(sentence):\n",
        "    #   Convert the sentence into a list called 'words' using .split()\n",
        "    #   Reverse each word in word whose len()>5\n",
        "    #   Join the words in a list words back into a sentence using .join()\n",
        "    #   Return the joined reversed sentence\n",
        "\n",
        "  return \" \".join([word if len(word)<5 else word[::-1] for word in sentence.split()])\n",
        "\n",
        "print(spin_words('Convert the sentence into a list'))"
      ]
    },
    {
      "cell_type": "markdown",
      "source": [
        "<b>2). </b>Write a function that takes an integer as input, and returns the number of bits that are equal to one in the binary representation of that number. You can guarantee that input is non-negative.\n",
        "\n",
        "<b>Example:<br> The binary representation of 1234 is 10011010010, so the function should return 5 in this case</n>"
      ],
      "metadata": {
        "id": "m2LtCsMdAwuB"
      }
    },
    {
      "cell_type": "code",
      "source": [
        "def count_bits(n):\n",
        "  return bin(n).count('1')\n",
        "\n",
        "print(count_bits(1234))"
      ],
      "metadata": {
        "colab": {
          "base_uri": "https://localhost:8080/"
        },
        "id": "UDn1AfLOBN9o",
        "outputId": "9810148b-6265-46d7-e264-a500fec71c32"
      },
      "execution_count": null,
      "outputs": [
        {
          "output_type": "stream",
          "name": "stdout",
          "text": [
            "5\n"
          ]
        }
      ]
    }
  ]
}